{
 "cells": [
  {
   "cell_type": "code",
   "execution_count": 1,
   "metadata": {},
   "outputs": [],
   "source": [
    "# Life_Expectancy"
   ]
  },
  {
   "cell_type": "code",
   "execution_count": 2,
   "metadata": {},
   "outputs": [],
   "source": [
    "import pandas as pd\n",
    "import numpy as np\n",
    "import seaborn as sns\n",
    "import matplotlib.pyplot as plt\n",
    "%matplotlib inline\n",
    "from sklearn.model_selection import train_test_split\n",
    "from sklearn.preprocessing import StandardScaler\n",
    "from sklearn.ensemble import AdaBoostRegressor\n",
    "from sklearn import preprocessing\n",
    "from sklearn.metrics import accuracy_score,mean_squared_error, r2_score"
   ]
  },
  {
   "cell_type": "code",
   "execution_count": 3,
   "metadata": {},
   "outputs": [],
   "source": [
    "train = pd.read_csv('train.csv')\n",
    "test = pd.read_csv('test.csv')"
   ]
  },
  {
   "cell_type": "code",
   "execution_count": 4,
   "metadata": {},
   "outputs": [
    {
     "data": {
      "text/html": [
       "<div>\n",
       "<style scoped>\n",
       "    .dataframe tbody tr th:only-of-type {\n",
       "        vertical-align: middle;\n",
       "    }\n",
       "\n",
       "    .dataframe tbody tr th {\n",
       "        vertical-align: top;\n",
       "    }\n",
       "\n",
       "    .dataframe thead th {\n",
       "        text-align: right;\n",
       "    }\n",
       "</style>\n",
       "<table border=\"1\" class=\"dataframe\">\n",
       "  <thead>\n",
       "    <tr style=\"text-align: right;\">\n",
       "      <th></th>\n",
       "      <th>Unnamed: 0</th>\n",
       "      <th>Year</th>\n",
       "      <th>Income share held by lowest 20%</th>\n",
       "      <th>GDP (current US$)</th>\n",
       "      <th>GDP growth (annual %)</th>\n",
       "      <th>Inflation, GDP deflator (annual %)</th>\n",
       "      <th>Agriculture, forestry, and fishing, value added (% of GDP)</th>\n",
       "      <th>Industry (including construction), value added (% of GDP)</th>\n",
       "      <th>Exports of goods and services (% of GDP)</th>\n",
       "      <th>Imports of goods and services (% of GDP)</th>\n",
       "      <th>Gross capital formation (% of GDP)</th>\n",
       "      <th>Revenue, excluding grants (% of GDP)</th>\n",
       "      <th>Time required to start a business (days)</th>\n",
       "      <th>Domestic credit provided by financial sector (% of GDP)</th>\n",
       "      <th>High-technology exports (% of manufactured exports)</th>\n",
       "      <th>External debt stocks, total (DOD, current US$)</th>\n",
       "      <th>Foreign direct investment, net inflows (BoP, current US$)</th>\n",
       "      <th>Population, total</th>\n",
       "      <th>CO2 emissions (metric tons per capita)</th>\n",
       "      <th>Life expectancy at birth, total (years)</th>\n",
       "    </tr>\n",
       "  </thead>\n",
       "  <tbody>\n",
       "    <tr>\n",
       "      <th>0</th>\n",
       "      <td>0</td>\n",
       "      <td>1960</td>\n",
       "      <td>NaN</td>\n",
       "      <td>NaN</td>\n",
       "      <td>NaN</td>\n",
       "      <td>NaN</td>\n",
       "      <td>NaN</td>\n",
       "      <td>NaN</td>\n",
       "      <td>NaN</td>\n",
       "      <td>NaN</td>\n",
       "      <td>NaN</td>\n",
       "      <td>NaN</td>\n",
       "      <td>NaN</td>\n",
       "      <td>NaN</td>\n",
       "      <td>NaN</td>\n",
       "      <td>NaN</td>\n",
       "      <td>NaN</td>\n",
       "      <td>45138458</td>\n",
       "      <td>0.075471</td>\n",
       "      <td>36.976</td>\n",
       "    </tr>\n",
       "    <tr>\n",
       "      <th>1</th>\n",
       "      <td>1</td>\n",
       "      <td>1961</td>\n",
       "      <td>NaN</td>\n",
       "      <td>NaN</td>\n",
       "      <td>NaN</td>\n",
       "      <td>NaN</td>\n",
       "      <td>NaN</td>\n",
       "      <td>NaN</td>\n",
       "      <td>NaN</td>\n",
       "      <td>NaN</td>\n",
       "      <td>NaN</td>\n",
       "      <td>NaN</td>\n",
       "      <td>NaN</td>\n",
       "      <td>NaN</td>\n",
       "      <td>NaN</td>\n",
       "      <td>NaN</td>\n",
       "      <td>NaN</td>\n",
       "      <td>46063563</td>\n",
       "      <td>0.089319</td>\n",
       "      <td>37.431</td>\n",
       "    </tr>\n",
       "    <tr>\n",
       "      <th>2</th>\n",
       "      <td>2</td>\n",
       "      <td>1962</td>\n",
       "      <td>NaN</td>\n",
       "      <td>NaN</td>\n",
       "      <td>NaN</td>\n",
       "      <td>NaN</td>\n",
       "      <td>NaN</td>\n",
       "      <td>NaN</td>\n",
       "      <td>NaN</td>\n",
       "      <td>NaN</td>\n",
       "      <td>NaN</td>\n",
       "      <td>NaN</td>\n",
       "      <td>NaN</td>\n",
       "      <td>NaN</td>\n",
       "      <td>NaN</td>\n",
       "      <td>NaN</td>\n",
       "      <td>NaN</td>\n",
       "      <td>47029822</td>\n",
       "      <td>0.088888</td>\n",
       "      <td>37.871</td>\n",
       "    </tr>\n",
       "    <tr>\n",
       "      <th>3</th>\n",
       "      <td>3</td>\n",
       "      <td>1963</td>\n",
       "      <td>NaN</td>\n",
       "      <td>NaN</td>\n",
       "      <td>NaN</td>\n",
       "      <td>NaN</td>\n",
       "      <td>NaN</td>\n",
       "      <td>NaN</td>\n",
       "      <td>NaN</td>\n",
       "      <td>NaN</td>\n",
       "      <td>NaN</td>\n",
       "      <td>NaN</td>\n",
       "      <td>NaN</td>\n",
       "      <td>NaN</td>\n",
       "      <td>NaN</td>\n",
       "      <td>NaN</td>\n",
       "      <td>NaN</td>\n",
       "      <td>48032934</td>\n",
       "      <td>0.111385</td>\n",
       "      <td>38.291</td>\n",
       "    </tr>\n",
       "    <tr>\n",
       "      <th>4</th>\n",
       "      <td>4</td>\n",
       "      <td>1964</td>\n",
       "      <td>NaN</td>\n",
       "      <td>NaN</td>\n",
       "      <td>NaN</td>\n",
       "      <td>NaN</td>\n",
       "      <td>NaN</td>\n",
       "      <td>NaN</td>\n",
       "      <td>NaN</td>\n",
       "      <td>NaN</td>\n",
       "      <td>NaN</td>\n",
       "      <td>NaN</td>\n",
       "      <td>NaN</td>\n",
       "      <td>NaN</td>\n",
       "      <td>NaN</td>\n",
       "      <td>NaN</td>\n",
       "      <td>NaN</td>\n",
       "      <td>49066760</td>\n",
       "      <td>0.148274</td>\n",
       "      <td>38.691</td>\n",
       "    </tr>\n",
       "  </tbody>\n",
       "</table>\n",
       "</div>"
      ],
      "text/plain": [
       "   Unnamed: 0  Year  Income share held by lowest 20%  GDP (current US$)  \\\n",
       "0           0  1960                              NaN                NaN   \n",
       "1           1  1961                              NaN                NaN   \n",
       "2           2  1962                              NaN                NaN   \n",
       "3           3  1963                              NaN                NaN   \n",
       "4           4  1964                              NaN                NaN   \n",
       "\n",
       "   GDP growth (annual %)  Inflation, GDP deflator (annual %)  \\\n",
       "0                    NaN                                 NaN   \n",
       "1                    NaN                                 NaN   \n",
       "2                    NaN                                 NaN   \n",
       "3                    NaN                                 NaN   \n",
       "4                    NaN                                 NaN   \n",
       "\n",
       "   Agriculture, forestry, and fishing, value added (% of GDP)  \\\n",
       "0                                                NaN            \n",
       "1                                                NaN            \n",
       "2                                                NaN            \n",
       "3                                                NaN            \n",
       "4                                                NaN            \n",
       "\n",
       "   Industry (including construction), value added (% of GDP)  \\\n",
       "0                                                NaN           \n",
       "1                                                NaN           \n",
       "2                                                NaN           \n",
       "3                                                NaN           \n",
       "4                                                NaN           \n",
       "\n",
       "   Exports of goods and services (% of GDP)  \\\n",
       "0                                       NaN   \n",
       "1                                       NaN   \n",
       "2                                       NaN   \n",
       "3                                       NaN   \n",
       "4                                       NaN   \n",
       "\n",
       "   Imports of goods and services (% of GDP)  \\\n",
       "0                                       NaN   \n",
       "1                                       NaN   \n",
       "2                                       NaN   \n",
       "3                                       NaN   \n",
       "4                                       NaN   \n",
       "\n",
       "   Gross capital formation (% of GDP)  Revenue, excluding grants (% of GDP)  \\\n",
       "0                                 NaN                                   NaN   \n",
       "1                                 NaN                                   NaN   \n",
       "2                                 NaN                                   NaN   \n",
       "3                                 NaN                                   NaN   \n",
       "4                                 NaN                                   NaN   \n",
       "\n",
       "   Time required to start a business (days)  \\\n",
       "0                                       NaN   \n",
       "1                                       NaN   \n",
       "2                                       NaN   \n",
       "3                                       NaN   \n",
       "4                                       NaN   \n",
       "\n",
       "   Domestic credit provided by financial sector (% of GDP)  \\\n",
       "0                                                NaN         \n",
       "1                                                NaN         \n",
       "2                                                NaN         \n",
       "3                                                NaN         \n",
       "4                                                NaN         \n",
       "\n",
       "   High-technology exports (% of manufactured exports)  \\\n",
       "0                                                NaN     \n",
       "1                                                NaN     \n",
       "2                                                NaN     \n",
       "3                                                NaN     \n",
       "4                                                NaN     \n",
       "\n",
       "   External debt stocks, total (DOD, current US$)  \\\n",
       "0                                             NaN   \n",
       "1                                             NaN   \n",
       "2                                             NaN   \n",
       "3                                             NaN   \n",
       "4                                             NaN   \n",
       "\n",
       "   Foreign direct investment, net inflows (BoP, current US$)  \\\n",
       "0                                                NaN           \n",
       "1                                                NaN           \n",
       "2                                                NaN           \n",
       "3                                                NaN           \n",
       "4                                                NaN           \n",
       "\n",
       "   Population, total  CO2 emissions (metric tons per capita)  \\\n",
       "0           45138458                                0.075471   \n",
       "1           46063563                                0.089319   \n",
       "2           47029822                                0.088888   \n",
       "3           48032934                                0.111385   \n",
       "4           49066760                                0.148274   \n",
       "\n",
       "   Life expectancy at birth, total (years)  \n",
       "0                                   36.976  \n",
       "1                                   37.431  \n",
       "2                                   37.871  \n",
       "3                                   38.291  \n",
       "4                                   38.691  "
      ]
     },
     "execution_count": 4,
     "metadata": {},
     "output_type": "execute_result"
    }
   ],
   "source": [
    "train.head()"
   ]
  },
  {
   "cell_type": "code",
   "execution_count": 5,
   "metadata": {},
   "outputs": [
    {
     "data": {
      "text/html": [
       "<div>\n",
       "<style scoped>\n",
       "    .dataframe tbody tr th:only-of-type {\n",
       "        vertical-align: middle;\n",
       "    }\n",
       "\n",
       "    .dataframe tbody tr th {\n",
       "        vertical-align: top;\n",
       "    }\n",
       "\n",
       "    .dataframe thead th {\n",
       "        text-align: right;\n",
       "    }\n",
       "</style>\n",
       "<table border=\"1\" class=\"dataframe\">\n",
       "  <thead>\n",
       "    <tr style=\"text-align: right;\">\n",
       "      <th></th>\n",
       "      <th>Unnamed: 0</th>\n",
       "      <th>Year</th>\n",
       "      <th>Income share held by lowest 20%</th>\n",
       "      <th>GDP (current US$)</th>\n",
       "      <th>GDP growth (annual %)</th>\n",
       "      <th>Inflation, GDP deflator (annual %)</th>\n",
       "      <th>Agriculture, forestry, and fishing, value added (% of GDP)</th>\n",
       "      <th>Industry (including construction), value added (% of GDP)</th>\n",
       "      <th>Exports of goods and services (% of GDP)</th>\n",
       "      <th>Imports of goods and services (% of GDP)</th>\n",
       "      <th>Gross capital formation (% of GDP)</th>\n",
       "      <th>Revenue, excluding grants (% of GDP)</th>\n",
       "      <th>Time required to start a business (days)</th>\n",
       "      <th>Domestic credit provided by financial sector (% of GDP)</th>\n",
       "      <th>High-technology exports (% of manufactured exports)</th>\n",
       "      <th>External debt stocks, total (DOD, current US$)</th>\n",
       "      <th>Foreign direct investment, net inflows (BoP, current US$)</th>\n",
       "      <th>Population, total</th>\n",
       "      <th>CO2 emissions (metric tons per capita)</th>\n",
       "    </tr>\n",
       "  </thead>\n",
       "  <tbody>\n",
       "    <tr>\n",
       "      <th>0</th>\n",
       "      <td>0</td>\n",
       "      <td>1990</td>\n",
       "      <td>..</td>\n",
       "      <td>5.403580e+10</td>\n",
       "      <td>11.776886</td>\n",
       "      <td>6.668942</td>\n",
       "      <td>21.556263</td>\n",
       "      <td>35.410327</td>\n",
       "      <td>20.97477285</td>\n",
       "      <td>9.949967231</td>\n",
       "      <td>53.18668521</td>\n",
       "      <td>..</td>\n",
       "      <td>..</td>\n",
       "      <td>..</td>\n",
       "      <td>..</td>\n",
       "      <td>33458483418</td>\n",
       "      <td>587882970.6</td>\n",
       "      <td>95212450</td>\n",
       "      <td>0.411675</td>\n",
       "    </tr>\n",
       "    <tr>\n",
       "      <th>1</th>\n",
       "      <td>1</td>\n",
       "      <td>1991</td>\n",
       "      <td>..</td>\n",
       "      <td>4.911843e+10</td>\n",
       "      <td>0.358353</td>\n",
       "      <td>18.863907</td>\n",
       "      <td>20.885283</td>\n",
       "      <td>36.965566</td>\n",
       "      <td>24.24686728</td>\n",
       "      <td>12.77473759</td>\n",
       "      <td>48.40571698</td>\n",
       "      <td>..</td>\n",
       "      <td>..</td>\n",
       "      <td>..</td>\n",
       "      <td>..</td>\n",
       "      <td>33526931287</td>\n",
       "      <td>712373362.5</td>\n",
       "      <td>97667632</td>\n",
       "      <td>0.432827</td>\n",
       "    </tr>\n",
       "    <tr>\n",
       "      <th>2</th>\n",
       "      <td>2</td>\n",
       "      <td>1992</td>\n",
       "      <td>4</td>\n",
       "      <td>4.779493e+10</td>\n",
       "      <td>4.631193</td>\n",
       "      <td>46.752355</td>\n",
       "      <td>20.321159</td>\n",
       "      <td>37.709608</td>\n",
       "      <td>23.9747503</td>\n",
       "      <td>14.25263801</td>\n",
       "      <td>43.77938896</td>\n",
       "      <td>..</td>\n",
       "      <td>..</td>\n",
       "      <td>..</td>\n",
       "      <td>..</td>\n",
       "      <td>29018663728</td>\n",
       "      <td>896641282.5</td>\n",
       "      <td>100161710</td>\n",
       "      <td>0.465396</td>\n",
       "    </tr>\n",
       "    <tr>\n",
       "      <th>3</th>\n",
       "      <td>3</td>\n",
       "      <td>1993</td>\n",
       "      <td>..</td>\n",
       "      <td>2.775220e+10</td>\n",
       "      <td>-2.035119</td>\n",
       "      <td>41.639059</td>\n",
       "      <td>23.491130</td>\n",
       "      <td>33.174342</td>\n",
       "      <td>20.06653995</td>\n",
       "      <td>13.65321498</td>\n",
       "      <td>44.48885975</td>\n",
       "      <td>..</td>\n",
       "      <td>..</td>\n",
       "      <td>..</td>\n",
       "      <td>..</td>\n",
       "      <td>30699263746</td>\n",
       "      <td>1345368587</td>\n",
       "      <td>102700753</td>\n",
       "      <td>0.439501</td>\n",
       "    </tr>\n",
       "    <tr>\n",
       "      <th>4</th>\n",
       "      <td>4</td>\n",
       "      <td>1994</td>\n",
       "      <td>..</td>\n",
       "      <td>3.383304e+10</td>\n",
       "      <td>-1.814924</td>\n",
       "      <td>43.296464</td>\n",
       "      <td>25.173849</td>\n",
       "      <td>31.318390</td>\n",
       "      <td>13.54924651</td>\n",
       "      <td>9.509989939</td>\n",
       "      <td>42.08362086</td>\n",
       "      <td>..</td>\n",
       "      <td>..</td>\n",
       "      <td>..</td>\n",
       "      <td>..</td>\n",
       "      <td>33092276818</td>\n",
       "      <td>1959219858</td>\n",
       "      <td>105293700</td>\n",
       "      <td>0.334299</td>\n",
       "    </tr>\n",
       "  </tbody>\n",
       "</table>\n",
       "</div>"
      ],
      "text/plain": [
       "   Unnamed: 0  Year Income share held by lowest 20%  GDP (current US$)  \\\n",
       "0           0  1990                              ..       5.403580e+10   \n",
       "1           1  1991                              ..       4.911843e+10   \n",
       "2           2  1992                               4       4.779493e+10   \n",
       "3           3  1993                              ..       2.775220e+10   \n",
       "4           4  1994                              ..       3.383304e+10   \n",
       "\n",
       "   GDP growth (annual %)  Inflation, GDP deflator (annual %)  \\\n",
       "0              11.776886                            6.668942   \n",
       "1               0.358353                           18.863907   \n",
       "2               4.631193                           46.752355   \n",
       "3              -2.035119                           41.639059   \n",
       "4              -1.814924                           43.296464   \n",
       "\n",
       "   Agriculture, forestry, and fishing, value added (% of GDP)  \\\n",
       "0                                          21.556263            \n",
       "1                                          20.885283            \n",
       "2                                          20.321159            \n",
       "3                                          23.491130            \n",
       "4                                          25.173849            \n",
       "\n",
       "   Industry (including construction), value added (% of GDP)  \\\n",
       "0                                          35.410327           \n",
       "1                                          36.965566           \n",
       "2                                          37.709608           \n",
       "3                                          33.174342           \n",
       "4                                          31.318390           \n",
       "\n",
       "  Exports of goods and services (% of GDP)  \\\n",
       "0                              20.97477285   \n",
       "1                              24.24686728   \n",
       "2                               23.9747503   \n",
       "3                              20.06653995   \n",
       "4                              13.54924651   \n",
       "\n",
       "  Imports of goods and services (% of GDP) Gross capital formation (% of GDP)  \\\n",
       "0                              9.949967231                        53.18668521   \n",
       "1                              12.77473759                        48.40571698   \n",
       "2                              14.25263801                        43.77938896   \n",
       "3                              13.65321498                        44.48885975   \n",
       "4                              9.509989939                        42.08362086   \n",
       "\n",
       "  Revenue, excluding grants (% of GDP)  \\\n",
       "0                                   ..   \n",
       "1                                   ..   \n",
       "2                                   ..   \n",
       "3                                   ..   \n",
       "4                                   ..   \n",
       "\n",
       "  Time required to start a business (days)  \\\n",
       "0                                       ..   \n",
       "1                                       ..   \n",
       "2                                       ..   \n",
       "3                                       ..   \n",
       "4                                       ..   \n",
       "\n",
       "  Domestic credit provided by financial sector (% of GDP)  \\\n",
       "0                                                 ..        \n",
       "1                                                 ..        \n",
       "2                                                 ..        \n",
       "3                                                 ..        \n",
       "4                                                 ..        \n",
       "\n",
       "  High-technology exports (% of manufactured exports)  \\\n",
       "0                                                 ..    \n",
       "1                                                 ..    \n",
       "2                                                 ..    \n",
       "3                                                 ..    \n",
       "4                                                 ..    \n",
       "\n",
       "  External debt stocks, total (DOD, current US$)  \\\n",
       "0                                    33458483418   \n",
       "1                                    33526931287   \n",
       "2                                    29018663728   \n",
       "3                                    30699263746   \n",
       "4                                    33092276818   \n",
       "\n",
       "  Foreign direct investment, net inflows (BoP, current US$)  \\\n",
       "0                                        587882970.6          \n",
       "1                                        712373362.5          \n",
       "2                                        896641282.5          \n",
       "3                                         1345368587          \n",
       "4                                         1959219858          \n",
       "\n",
       "   Population, total  CO2 emissions (metric tons per capita)  \n",
       "0           95212450                                0.411675  \n",
       "1           97667632                                0.432827  \n",
       "2          100161710                                0.465396  \n",
       "3          102700753                                0.439501  \n",
       "4          105293700                                0.334299  "
      ]
     },
     "execution_count": 5,
     "metadata": {},
     "output_type": "execute_result"
    }
   ],
   "source": [
    "test.head()"
   ]
  },
  {
   "cell_type": "code",
   "execution_count": 6,
   "metadata": {},
   "outputs": [
    {
     "data": {
      "text/plain": [
       "(30, 20)"
      ]
     },
     "execution_count": 6,
     "metadata": {},
     "output_type": "execute_result"
    }
   ],
   "source": [
    "train.shape"
   ]
  },
  {
   "cell_type": "code",
   "execution_count": 7,
   "metadata": {},
   "outputs": [
    {
     "data": {
      "text/plain": [
       "(30, 19)"
      ]
     },
     "execution_count": 7,
     "metadata": {},
     "output_type": "execute_result"
    }
   ],
   "source": [
    "test.shape"
   ]
  },
  {
   "cell_type": "code",
   "execution_count": 8,
   "metadata": {},
   "outputs": [
    {
     "data": {
      "text/plain": [
       "Unnamed: 0                                                     0\n",
       "Year                                                           0\n",
       "Income share held by lowest 20%                               29\n",
       "GDP (current US$)                                             10\n",
       "GDP growth (annual %)                                         10\n",
       "Inflation, GDP deflator (annual %)                            10\n",
       "Agriculture, forestry, and fishing, value added (% of GDP)    21\n",
       "Industry (including construction), value added (% of GDP)     21\n",
       "Exports of goods and services (% of GDP)                      10\n",
       "Imports of goods and services (% of GDP)                      10\n",
       "Gross capital formation (% of GDP)                            21\n",
       "Revenue, excluding grants (% of GDP)                          30\n",
       "Time required to start a business (days)                      30\n",
       "Domestic credit provided by financial sector (% of GDP)       30\n",
       "High-technology exports (% of manufactured exports)           30\n",
       "External debt stocks, total (DOD, current US$)                10\n",
       "Foreign direct investment, net inflows (BoP, current US$)     10\n",
       "Population, total                                              0\n",
       "CO2 emissions (metric tons per capita)                         0\n",
       "Life expectancy at birth, total (years)                        0\n",
       "dtype: int64"
      ]
     },
     "execution_count": 8,
     "metadata": {},
     "output_type": "execute_result"
    }
   ],
   "source": [
    "train.isnull().sum()"
   ]
  },
  {
   "cell_type": "code",
   "execution_count": 9,
   "metadata": {},
   "outputs": [
    {
     "data": {
      "text/plain": [
       "Unnamed: 0                                                    0.000000\n",
       "Year                                                          0.000000\n",
       "Income share held by lowest 20%                               0.966667\n",
       "GDP (current US$)                                             0.333333\n",
       "GDP growth (annual %)                                         0.333333\n",
       "Inflation, GDP deflator (annual %)                            0.333333\n",
       "Agriculture, forestry, and fishing, value added (% of GDP)    0.700000\n",
       "Industry (including construction), value added (% of GDP)     0.700000\n",
       "Exports of goods and services (% of GDP)                      0.333333\n",
       "Imports of goods and services (% of GDP)                      0.333333\n",
       "Gross capital formation (% of GDP)                            0.700000\n",
       "Revenue, excluding grants (% of GDP)                          1.000000\n",
       "Time required to start a business (days)                      1.000000\n",
       "Domestic credit provided by financial sector (% of GDP)       1.000000\n",
       "High-technology exports (% of manufactured exports)           1.000000\n",
       "External debt stocks, total (DOD, current US$)                0.333333\n",
       "Foreign direct investment, net inflows (BoP, current US$)     0.333333\n",
       "Population, total                                             0.000000\n",
       "CO2 emissions (metric tons per capita)                        0.000000\n",
       "Life expectancy at birth, total (years)                       0.000000\n",
       "dtype: float64"
      ]
     },
     "execution_count": 9,
     "metadata": {},
     "output_type": "execute_result"
    }
   ],
   "source": [
    "train.isnull().sum()/ len(train)"
   ]
  },
  {
   "cell_type": "code",
   "execution_count": 10,
   "metadata": {},
   "outputs": [],
   "source": [
    "columns = train.columns"
   ]
  },
  {
   "cell_type": "code",
   "execution_count": 11,
   "metadata": {},
   "outputs": [
    {
     "data": {
      "text/plain": [
       "'Income share held by lowest 20%'"
      ]
     },
     "execution_count": 11,
     "metadata": {},
     "output_type": "execute_result"
    }
   ],
   "source": [
    "columns[2]"
   ]
  },
  {
   "cell_type": "code",
   "execution_count": 12,
   "metadata": {},
   "outputs": [],
   "source": [
    "train.drop([columns[2], columns[7], columns[6], columns[10], columns[11], columns[12], columns[13], columns[14]], inplace= True, axis=1)"
   ]
  },
  {
   "cell_type": "code",
   "execution_count": 13,
   "metadata": {},
   "outputs": [
    {
     "data": {
      "text/plain": [
       "Unnamed: 0                                                    0\n",
       "Year                                                          0\n",
       "GDP (current US$)                                            10\n",
       "GDP growth (annual %)                                        10\n",
       "Inflation, GDP deflator (annual %)                           10\n",
       "Exports of goods and services (% of GDP)                     10\n",
       "Imports of goods and services (% of GDP)                     10\n",
       "External debt stocks, total (DOD, current US$)               10\n",
       "Foreign direct investment, net inflows (BoP, current US$)    10\n",
       "Population, total                                             0\n",
       "CO2 emissions (metric tons per capita)                        0\n",
       "Life expectancy at birth, total (years)                       0\n",
       "dtype: int64"
      ]
     },
     "execution_count": 13,
     "metadata": {},
     "output_type": "execute_result"
    }
   ],
   "source": [
    "train.isnull().sum()"
   ]
  },
  {
   "cell_type": "code",
   "execution_count": 14,
   "metadata": {},
   "outputs": [
    {
     "data": {
      "text/html": [
       "<div>\n",
       "<style scoped>\n",
       "    .dataframe tbody tr th:only-of-type {\n",
       "        vertical-align: middle;\n",
       "    }\n",
       "\n",
       "    .dataframe tbody tr th {\n",
       "        vertical-align: top;\n",
       "    }\n",
       "\n",
       "    .dataframe thead th {\n",
       "        text-align: right;\n",
       "    }\n",
       "</style>\n",
       "<table border=\"1\" class=\"dataframe\">\n",
       "  <thead>\n",
       "    <tr style=\"text-align: right;\">\n",
       "      <th></th>\n",
       "      <th>Unnamed: 0</th>\n",
       "      <th>Year</th>\n",
       "      <th>GDP (current US$)</th>\n",
       "      <th>GDP growth (annual %)</th>\n",
       "      <th>Inflation, GDP deflator (annual %)</th>\n",
       "      <th>Exports of goods and services (% of GDP)</th>\n",
       "      <th>Imports of goods and services (% of GDP)</th>\n",
       "      <th>External debt stocks, total (DOD, current US$)</th>\n",
       "      <th>Foreign direct investment, net inflows (BoP, current US$)</th>\n",
       "      <th>Population, total</th>\n",
       "      <th>CO2 emissions (metric tons per capita)</th>\n",
       "      <th>Life expectancy at birth, total (years)</th>\n",
       "    </tr>\n",
       "  </thead>\n",
       "  <tbody>\n",
       "    <tr>\n",
       "      <th>count</th>\n",
       "      <td>30.000000</td>\n",
       "      <td>30.000000</td>\n",
       "      <td>2.000000e+01</td>\n",
       "      <td>20.000000</td>\n",
       "      <td>20.000000</td>\n",
       "      <td>20.000000</td>\n",
       "      <td>20.000000</td>\n",
       "      <td>2.000000e+01</td>\n",
       "      <td>2.000000e+01</td>\n",
       "      <td>3.000000e+01</td>\n",
       "      <td>30.000000</td>\n",
       "      <td>30.000000</td>\n",
       "    </tr>\n",
       "    <tr>\n",
       "      <th>mean</th>\n",
       "      <td>14.500000</td>\n",
       "      <td>1974.500000</td>\n",
       "      <td>5.374134e+10</td>\n",
       "      <td>3.032891</td>\n",
       "      <td>26.569550</td>\n",
       "      <td>14.762922</td>\n",
       "      <td>12.529795</td>\n",
       "      <td>1.107122e+10</td>\n",
       "      <td>3.768050e+08</td>\n",
       "      <td>6.517091e+07</td>\n",
       "      <td>0.565865</td>\n",
       "      <td>42.571733</td>\n",
       "    </tr>\n",
       "    <tr>\n",
       "      <th>std</th>\n",
       "      <td>8.803408</td>\n",
       "      <td>8.803408</td>\n",
       "      <td>4.131759e+10</td>\n",
       "      <td>8.864266</td>\n",
       "      <td>47.094811</td>\n",
       "      <td>7.879052</td>\n",
       "      <td>7.293537</td>\n",
       "      <td>1.047892e+10</td>\n",
       "      <td>4.464165e+08</td>\n",
       "      <td>1.467450e+07</td>\n",
       "      <td>0.322211</td>\n",
       "      <td>3.125062</td>\n",
       "    </tr>\n",
       "    <tr>\n",
       "      <th>min</th>\n",
       "      <td>0.000000</td>\n",
       "      <td>1960.000000</td>\n",
       "      <td>9.181770e+09</td>\n",
       "      <td>-13.127880</td>\n",
       "      <td>1.348034</td>\n",
       "      <td>5.249090</td>\n",
       "      <td>3.029761</td>\n",
       "      <td>8.366806e+08</td>\n",
       "      <td>-7.388700e+08</td>\n",
       "      <td>4.513846e+07</td>\n",
       "      <td>0.075471</td>\n",
       "      <td>36.976000</td>\n",
       "    </tr>\n",
       "    <tr>\n",
       "      <th>25%</th>\n",
       "      <td>7.250000</td>\n",
       "      <td>1967.250000</td>\n",
       "      <td>2.704586e+10</td>\n",
       "      <td>-2.143654</td>\n",
       "      <td>6.609243</td>\n",
       "      <td>8.079512</td>\n",
       "      <td>6.428624</td>\n",
       "      <td>1.756027e+09</td>\n",
       "      <td>2.454833e+08</td>\n",
       "      <td>5.263322e+07</td>\n",
       "      <td>0.237324</td>\n",
       "      <td>39.902750</td>\n",
       "    </tr>\n",
       "    <tr>\n",
       "      <th>50%</th>\n",
       "      <td>14.500000</td>\n",
       "      <td>1974.500000</td>\n",
       "      <td>4.563149e+10</td>\n",
       "      <td>3.784547</td>\n",
       "      <td>14.133965</td>\n",
       "      <td>12.008402</td>\n",
       "      <td>11.504521</td>\n",
       "      <td>7.591396e+09</td>\n",
       "      <td>3.517173e+08</td>\n",
       "      <td>6.252574e+07</td>\n",
       "      <td>0.701654</td>\n",
       "      <td>42.958000</td>\n",
       "    </tr>\n",
       "    <tr>\n",
       "      <th>75%</th>\n",
       "      <td>21.750000</td>\n",
       "      <td>1981.750000</td>\n",
       "      <td>6.652243e+10</td>\n",
       "      <td>6.903080</td>\n",
       "      <td>21.008042</td>\n",
       "      <td>20.868486</td>\n",
       "      <td>19.095735</td>\n",
       "      <td>1.800133e+10</td>\n",
       "      <td>4.479157e+08</td>\n",
       "      <td>7.693078e+07</td>\n",
       "      <td>0.844405</td>\n",
       "      <td>45.809500</td>\n",
       "    </tr>\n",
       "    <tr>\n",
       "      <th>max</th>\n",
       "      <td>29.000000</td>\n",
       "      <td>1989.000000</td>\n",
       "      <td>1.644750e+11</td>\n",
       "      <td>25.007242</td>\n",
       "      <td>219.002844</td>\n",
       "      <td>29.375174</td>\n",
       "      <td>23.922283</td>\n",
       "      <td>3.012199e+10</td>\n",
       "      <td>1.884250e+09</td>\n",
       "      <td>9.278803e+07</td>\n",
       "      <td>1.009958</td>\n",
       "      <td>46.127000</td>\n",
       "    </tr>\n",
       "  </tbody>\n",
       "</table>\n",
       "</div>"
      ],
      "text/plain": [
       "       Unnamed: 0         Year  GDP (current US$)  GDP growth (annual %)  \\\n",
       "count   30.000000    30.000000       2.000000e+01              20.000000   \n",
       "mean    14.500000  1974.500000       5.374134e+10               3.032891   \n",
       "std      8.803408     8.803408       4.131759e+10               8.864266   \n",
       "min      0.000000  1960.000000       9.181770e+09             -13.127880   \n",
       "25%      7.250000  1967.250000       2.704586e+10              -2.143654   \n",
       "50%     14.500000  1974.500000       4.563149e+10               3.784547   \n",
       "75%     21.750000  1981.750000       6.652243e+10               6.903080   \n",
       "max     29.000000  1989.000000       1.644750e+11              25.007242   \n",
       "\n",
       "       Inflation, GDP deflator (annual %)  \\\n",
       "count                           20.000000   \n",
       "mean                            26.569550   \n",
       "std                             47.094811   \n",
       "min                              1.348034   \n",
       "25%                              6.609243   \n",
       "50%                             14.133965   \n",
       "75%                             21.008042   \n",
       "max                            219.002844   \n",
       "\n",
       "       Exports of goods and services (% of GDP)  \\\n",
       "count                                 20.000000   \n",
       "mean                                  14.762922   \n",
       "std                                    7.879052   \n",
       "min                                    5.249090   \n",
       "25%                                    8.079512   \n",
       "50%                                   12.008402   \n",
       "75%                                   20.868486   \n",
       "max                                   29.375174   \n",
       "\n",
       "       Imports of goods and services (% of GDP)  \\\n",
       "count                                 20.000000   \n",
       "mean                                  12.529795   \n",
       "std                                    7.293537   \n",
       "min                                    3.029761   \n",
       "25%                                    6.428624   \n",
       "50%                                   11.504521   \n",
       "75%                                   19.095735   \n",
       "max                                   23.922283   \n",
       "\n",
       "       External debt stocks, total (DOD, current US$)  \\\n",
       "count                                    2.000000e+01   \n",
       "mean                                     1.107122e+10   \n",
       "std                                      1.047892e+10   \n",
       "min                                      8.366806e+08   \n",
       "25%                                      1.756027e+09   \n",
       "50%                                      7.591396e+09   \n",
       "75%                                      1.800133e+10   \n",
       "max                                      3.012199e+10   \n",
       "\n",
       "       Foreign direct investment, net inflows (BoP, current US$)  \\\n",
       "count                                       2.000000e+01           \n",
       "mean                                        3.768050e+08           \n",
       "std                                         4.464165e+08           \n",
       "min                                        -7.388700e+08           \n",
       "25%                                         2.454833e+08           \n",
       "50%                                         3.517173e+08           \n",
       "75%                                         4.479157e+08           \n",
       "max                                         1.884250e+09           \n",
       "\n",
       "       Population, total  CO2 emissions (metric tons per capita)  \\\n",
       "count       3.000000e+01                               30.000000   \n",
       "mean        6.517091e+07                                0.565865   \n",
       "std         1.467450e+07                                0.322211   \n",
       "min         4.513846e+07                                0.075471   \n",
       "25%         5.263322e+07                                0.237324   \n",
       "50%         6.252574e+07                                0.701654   \n",
       "75%         7.693078e+07                                0.844405   \n",
       "max         9.278803e+07                                1.009958   \n",
       "\n",
       "       Life expectancy at birth, total (years)  \n",
       "count                                30.000000  \n",
       "mean                                 42.571733  \n",
       "std                                   3.125062  \n",
       "min                                  36.976000  \n",
       "25%                                  39.902750  \n",
       "50%                                  42.958000  \n",
       "75%                                  45.809500  \n",
       "max                                  46.127000  "
      ]
     },
     "execution_count": 14,
     "metadata": {},
     "output_type": "execute_result"
    }
   ],
   "source": [
    "train.describe(include='all')"
   ]
  },
  {
   "cell_type": "code",
   "execution_count": 15,
   "metadata": {},
   "outputs": [],
   "source": [
    "columns = train.columns"
   ]
  },
  {
   "cell_type": "code",
   "execution_count": 16,
   "metadata": {},
   "outputs": [
    {
     "data": {
      "text/plain": [
       "53741342698.55"
      ]
     },
     "execution_count": 16,
     "metadata": {},
     "output_type": "execute_result"
    }
   ],
   "source": [
    "train[columns[2]].mean()"
   ]
  },
  {
   "cell_type": "code",
   "execution_count": 17,
   "metadata": {},
   "outputs": [],
   "source": [
    "for i in columns:\n",
    "    train[i].fillna(train[i].median(), inplace=True)"
   ]
  },
  {
   "cell_type": "code",
   "execution_count": 18,
   "metadata": {},
   "outputs": [
    {
     "data": {
      "text/plain": [
       "Unnamed: 0                                                   0\n",
       "Year                                                         0\n",
       "GDP (current US$)                                            0\n",
       "GDP growth (annual %)                                        0\n",
       "Inflation, GDP deflator (annual %)                           0\n",
       "Exports of goods and services (% of GDP)                     0\n",
       "Imports of goods and services (% of GDP)                     0\n",
       "External debt stocks, total (DOD, current US$)               0\n",
       "Foreign direct investment, net inflows (BoP, current US$)    0\n",
       "Population, total                                            0\n",
       "CO2 emissions (metric tons per capita)                       0\n",
       "Life expectancy at birth, total (years)                      0\n",
       "dtype: int64"
      ]
     },
     "execution_count": 18,
     "metadata": {},
     "output_type": "execute_result"
    }
   ],
   "source": [
    "train.isnull().sum()"
   ]
  },
  {
   "cell_type": "code",
   "execution_count": 19,
   "metadata": {},
   "outputs": [
    {
     "data": {
      "text/plain": [
       "Unnamed: 0                                                    0\n",
       "Year                                                          0\n",
       "Income share held by lowest 20%                               0\n",
       "GDP (current US$)                                             0\n",
       "GDP growth (annual %)                                         0\n",
       "Inflation, GDP deflator (annual %)                            0\n",
       "Agriculture, forestry, and fishing, value added (% of GDP)    0\n",
       "Industry (including construction), value added (% of GDP)     0\n",
       "Exports of goods and services (% of GDP)                      0\n",
       "Imports of goods and services (% of GDP)                      0\n",
       "Gross capital formation (% of GDP)                            0\n",
       "Revenue, excluding grants (% of GDP)                          0\n",
       "Time required to start a business (days)                      0\n",
       "Domestic credit provided by financial sector (% of GDP)       0\n",
       "High-technology exports (% of manufactured exports)           0\n",
       "External debt stocks, total (DOD, current US$)                0\n",
       "Foreign direct investment, net inflows (BoP, current US$)     0\n",
       "Population, total                                             0\n",
       "CO2 emissions (metric tons per capita)                        3\n",
       "dtype: int64"
      ]
     },
     "execution_count": 19,
     "metadata": {},
     "output_type": "execute_result"
    }
   ],
   "source": [
    "test.isnull().sum()"
   ]
  },
  {
   "cell_type": "code",
   "execution_count": 20,
   "metadata": {},
   "outputs": [],
   "source": [
    "column = test.columns"
   ]
  },
  {
   "cell_type": "code",
   "execution_count": 21,
   "metadata": {},
   "outputs": [],
   "source": [
    "test.drop([column[2], column[7], column[6], column[10], column[11], column[12], column[13], column[14]], inplace=True, axis=1)"
   ]
  },
  {
   "cell_type": "code",
   "execution_count": 22,
   "metadata": {},
   "outputs": [
    {
     "data": {
      "text/plain": [
       "Unnamed: 0                                                   0\n",
       "Year                                                         0\n",
       "GDP (current US$)                                            0\n",
       "GDP growth (annual %)                                        0\n",
       "Inflation, GDP deflator (annual %)                           0\n",
       "Exports of goods and services (% of GDP)                     0\n",
       "Imports of goods and services (% of GDP)                     0\n",
       "External debt stocks, total (DOD, current US$)               0\n",
       "Foreign direct investment, net inflows (BoP, current US$)    0\n",
       "Population, total                                            0\n",
       "CO2 emissions (metric tons per capita)                       3\n",
       "dtype: int64"
      ]
     },
     "execution_count": 22,
     "metadata": {},
     "output_type": "execute_result"
    }
   ],
   "source": [
    "test.isnull().sum()"
   ]
  },
  {
   "cell_type": "code",
   "execution_count": 23,
   "metadata": {},
   "outputs": [
    {
     "data": {
      "text/plain": [
       "(30, 11)"
      ]
     },
     "execution_count": 23,
     "metadata": {},
     "output_type": "execute_result"
    }
   ],
   "source": [
    "test.shape"
   ]
  },
  {
   "cell_type": "code",
   "execution_count": 24,
   "metadata": {},
   "outputs": [],
   "source": [
    "column = test.columns"
   ]
  },
  {
   "cell_type": "code",
   "execution_count": 25,
   "metadata": {},
   "outputs": [],
   "source": [
    "test[column[10]].fillna(0.565865,inplace=True)"
   ]
  },
  {
   "cell_type": "code",
   "execution_count": 26,
   "metadata": {},
   "outputs": [
    {
     "data": {
      "text/plain": [
       "Unnamed: 0                                                   0\n",
       "Year                                                         0\n",
       "GDP (current US$)                                            0\n",
       "GDP growth (annual %)                                        0\n",
       "Inflation, GDP deflator (annual %)                           0\n",
       "Exports of goods and services (% of GDP)                     0\n",
       "Imports of goods and services (% of GDP)                     0\n",
       "External debt stocks, total (DOD, current US$)               0\n",
       "Foreign direct investment, net inflows (BoP, current US$)    0\n",
       "Population, total                                            0\n",
       "CO2 emissions (metric tons per capita)                       0\n",
       "dtype: int64"
      ]
     },
     "execution_count": 26,
     "metadata": {},
     "output_type": "execute_result"
    }
   ],
   "source": [
    "test.isnull().sum()"
   ]
  },
  {
   "cell_type": "code",
   "execution_count": 27,
   "metadata": {},
   "outputs": [
    {
     "name": "stdout",
     "output_type": "stream",
     "text": [
      "int64\n",
      "int64\n",
      "float64\n",
      "float64\n",
      "float64\n",
      "float64\n",
      "float64\n",
      "float64\n",
      "float64\n",
      "int64\n",
      "float64\n",
      "float64\n"
     ]
    }
   ],
   "source": [
    "for i in train.columns:\n",
    "    print(train[i].dtype)"
   ]
  },
  {
   "cell_type": "code",
   "execution_count": 28,
   "metadata": {},
   "outputs": [],
   "source": [
    "column = train.columns"
   ]
  },
  {
   "cell_type": "code",
   "execution_count": 29,
   "metadata": {},
   "outputs": [],
   "source": [
    "train[columns[-3]] = train[columns[-3]].astype(float)"
   ]
  },
  {
   "cell_type": "code",
   "execution_count": 30,
   "metadata": {},
   "outputs": [
    {
     "name": "stdout",
     "output_type": "stream",
     "text": [
      "int64\n",
      "int64\n",
      "float64\n",
      "float64\n",
      "float64\n",
      "float64\n",
      "float64\n",
      "float64\n",
      "float64\n",
      "float64\n",
      "float64\n",
      "float64\n"
     ]
    }
   ],
   "source": [
    "for i in train.columns:\n",
    "    print(train[i].dtype)"
   ]
  },
  {
   "cell_type": "code",
   "execution_count": 31,
   "metadata": {},
   "outputs": [
    {
     "data": {
      "text/html": [
       "<div>\n",
       "<style scoped>\n",
       "    .dataframe tbody tr th:only-of-type {\n",
       "        vertical-align: middle;\n",
       "    }\n",
       "\n",
       "    .dataframe tbody tr th {\n",
       "        vertical-align: top;\n",
       "    }\n",
       "\n",
       "    .dataframe thead th {\n",
       "        text-align: right;\n",
       "    }\n",
       "</style>\n",
       "<table border=\"1\" class=\"dataframe\">\n",
       "  <thead>\n",
       "    <tr style=\"text-align: right;\">\n",
       "      <th></th>\n",
       "      <th>Unnamed: 0</th>\n",
       "      <th>Year</th>\n",
       "      <th>GDP (current US$)</th>\n",
       "      <th>GDP growth (annual %)</th>\n",
       "      <th>Inflation, GDP deflator (annual %)</th>\n",
       "      <th>Exports of goods and services (% of GDP)</th>\n",
       "      <th>Imports of goods and services (% of GDP)</th>\n",
       "      <th>External debt stocks, total (DOD, current US$)</th>\n",
       "      <th>Foreign direct investment, net inflows (BoP, current US$)</th>\n",
       "      <th>Population, total</th>\n",
       "      <th>CO2 emissions (metric tons per capita)</th>\n",
       "    </tr>\n",
       "  </thead>\n",
       "  <tbody>\n",
       "    <tr>\n",
       "      <th>count</th>\n",
       "      <td>30.000000</td>\n",
       "      <td>30.000000</td>\n",
       "      <td>3.000000e+01</td>\n",
       "      <td>30.000000</td>\n",
       "      <td>30.000000</td>\n",
       "      <td>30</td>\n",
       "      <td>30</td>\n",
       "      <td>30</td>\n",
       "      <td>30</td>\n",
       "      <td>3.000000e+01</td>\n",
       "      <td>30.000000</td>\n",
       "    </tr>\n",
       "    <tr>\n",
       "      <th>unique</th>\n",
       "      <td>NaN</td>\n",
       "      <td>NaN</td>\n",
       "      <td>NaN</td>\n",
       "      <td>NaN</td>\n",
       "      <td>NaN</td>\n",
       "      <td>30</td>\n",
       "      <td>30</td>\n",
       "      <td>30</td>\n",
       "      <td>30</td>\n",
       "      <td>NaN</td>\n",
       "      <td>NaN</td>\n",
       "    </tr>\n",
       "    <tr>\n",
       "      <th>top</th>\n",
       "      <td>NaN</td>\n",
       "      <td>NaN</td>\n",
       "      <td>NaN</td>\n",
       "      <td>NaN</td>\n",
       "      <td>NaN</td>\n",
       "      <td>31.54658773</td>\n",
       "      <td>17.66014555</td>\n",
       "      <td>34094439060</td>\n",
       "      <td>8195499253</td>\n",
       "      <td>NaN</td>\n",
       "      <td>NaN</td>\n",
       "    </tr>\n",
       "    <tr>\n",
       "      <th>freq</th>\n",
       "      <td>NaN</td>\n",
       "      <td>NaN</td>\n",
       "      <td>NaN</td>\n",
       "      <td>NaN</td>\n",
       "      <td>NaN</td>\n",
       "      <td>1</td>\n",
       "      <td>1</td>\n",
       "      <td>1</td>\n",
       "      <td>1</td>\n",
       "      <td>NaN</td>\n",
       "      <td>NaN</td>\n",
       "    </tr>\n",
       "    <tr>\n",
       "      <th>mean</th>\n",
       "      <td>14.500000</td>\n",
       "      <td>2004.500000</td>\n",
       "      <td>2.236948e+11</td>\n",
       "      <td>4.546357</td>\n",
       "      <td>17.296883</td>\n",
       "      <td>NaN</td>\n",
       "      <td>NaN</td>\n",
       "      <td>NaN</td>\n",
       "      <td>NaN</td>\n",
       "      <td>1.412014e+08</td>\n",
       "      <td>0.574819</td>\n",
       "    </tr>\n",
       "    <tr>\n",
       "      <th>std</th>\n",
       "      <td>8.803408</td>\n",
       "      <td>8.803408</td>\n",
       "      <td>1.801917e+11</td>\n",
       "      <td>3.986615</td>\n",
       "      <td>16.110485</td>\n",
       "      <td>NaN</td>\n",
       "      <td>NaN</td>\n",
       "      <td>NaN</td>\n",
       "      <td>NaN</td>\n",
       "      <td>3.205242e+07</td>\n",
       "      <td>0.160605</td>\n",
       "    </tr>\n",
       "    <tr>\n",
       "      <th>min</th>\n",
       "      <td>0.000000</td>\n",
       "      <td>1990.000000</td>\n",
       "      <td>2.775220e+10</td>\n",
       "      <td>-2.035119</td>\n",
       "      <td>0.686099</td>\n",
       "      <td>NaN</td>\n",
       "      <td>NaN</td>\n",
       "      <td>NaN</td>\n",
       "      <td>NaN</td>\n",
       "      <td>9.521245e+07</td>\n",
       "      <td>0.312014</td>\n",
       "    </tr>\n",
       "    <tr>\n",
       "      <th>25%</th>\n",
       "      <td>7.250000</td>\n",
       "      <td>1997.250000</td>\n",
       "      <td>5.449439e+10</td>\n",
       "      <td>1.994175</td>\n",
       "      <td>7.305145</td>\n",
       "      <td>NaN</td>\n",
       "      <td>NaN</td>\n",
       "      <td>NaN</td>\n",
       "      <td>NaN</td>\n",
       "      <td>1.141732e+08</td>\n",
       "      <td>0.434495</td>\n",
       "    </tr>\n",
       "    <tr>\n",
       "      <th>50%</th>\n",
       "      <td>14.500000</td>\n",
       "      <td>2004.500000</td>\n",
       "      <td>1.562600e+11</td>\n",
       "      <td>4.823564</td>\n",
       "      <td>10.306632</td>\n",
       "      <td>NaN</td>\n",
       "      <td>NaN</td>\n",
       "      <td>NaN</td>\n",
       "      <td>NaN</td>\n",
       "      <td>1.370927e+08</td>\n",
       "      <td>0.639385</td>\n",
       "    </tr>\n",
       "    <tr>\n",
       "      <th>75%</th>\n",
       "      <td>21.750000</td>\n",
       "      <td>2011.750000</td>\n",
       "      <td>3.925562e+11</td>\n",
       "      <td>6.651284</td>\n",
       "      <td>22.053519</td>\n",
       "      <td>NaN</td>\n",
       "      <td>NaN</td>\n",
       "      <td>NaN</td>\n",
       "      <td>NaN</td>\n",
       "      <td>1.661228e+08</td>\n",
       "      <td>0.718044</td>\n",
       "    </tr>\n",
       "    <tr>\n",
       "      <th>max</th>\n",
       "      <td>29.000000</td>\n",
       "      <td>2019.000000</td>\n",
       "      <td>5.684990e+11</td>\n",
       "      <td>15.329156</td>\n",
       "      <td>75.401653</td>\n",
       "      <td>NaN</td>\n",
       "      <td>NaN</td>\n",
       "      <td>NaN</td>\n",
       "      <td>NaN</td>\n",
       "      <td>2.009636e+08</td>\n",
       "      <td>0.808855</td>\n",
       "    </tr>\n",
       "  </tbody>\n",
       "</table>\n",
       "</div>"
      ],
      "text/plain": [
       "        Unnamed: 0         Year  GDP (current US$)  GDP growth (annual %)  \\\n",
       "count    30.000000    30.000000       3.000000e+01              30.000000   \n",
       "unique         NaN          NaN                NaN                    NaN   \n",
       "top            NaN          NaN                NaN                    NaN   \n",
       "freq           NaN          NaN                NaN                    NaN   \n",
       "mean     14.500000  2004.500000       2.236948e+11               4.546357   \n",
       "std       8.803408     8.803408       1.801917e+11               3.986615   \n",
       "min       0.000000  1990.000000       2.775220e+10              -2.035119   \n",
       "25%       7.250000  1997.250000       5.449439e+10               1.994175   \n",
       "50%      14.500000  2004.500000       1.562600e+11               4.823564   \n",
       "75%      21.750000  2011.750000       3.925562e+11               6.651284   \n",
       "max      29.000000  2019.000000       5.684990e+11              15.329156   \n",
       "\n",
       "        Inflation, GDP deflator (annual %)  \\\n",
       "count                            30.000000   \n",
       "unique                                 NaN   \n",
       "top                                    NaN   \n",
       "freq                                   NaN   \n",
       "mean                             17.296883   \n",
       "std                              16.110485   \n",
       "min                               0.686099   \n",
       "25%                               7.305145   \n",
       "50%                              10.306632   \n",
       "75%                              22.053519   \n",
       "max                              75.401653   \n",
       "\n",
       "       Exports of goods and services (% of GDP)  \\\n",
       "count                                        30   \n",
       "unique                                       30   \n",
       "top                                 31.54658773   \n",
       "freq                                          1   \n",
       "mean                                        NaN   \n",
       "std                                         NaN   \n",
       "min                                         NaN   \n",
       "25%                                         NaN   \n",
       "50%                                         NaN   \n",
       "75%                                         NaN   \n",
       "max                                         NaN   \n",
       "\n",
       "       Imports of goods and services (% of GDP)  \\\n",
       "count                                        30   \n",
       "unique                                       30   \n",
       "top                                 17.66014555   \n",
       "freq                                          1   \n",
       "mean                                        NaN   \n",
       "std                                         NaN   \n",
       "min                                         NaN   \n",
       "25%                                         NaN   \n",
       "50%                                         NaN   \n",
       "75%                                         NaN   \n",
       "max                                         NaN   \n",
       "\n",
       "       External debt stocks, total (DOD, current US$)  \\\n",
       "count                                              30   \n",
       "unique                                             30   \n",
       "top                                       34094439060   \n",
       "freq                                                1   \n",
       "mean                                              NaN   \n",
       "std                                               NaN   \n",
       "min                                               NaN   \n",
       "25%                                               NaN   \n",
       "50%                                               NaN   \n",
       "75%                                               NaN   \n",
       "max                                               NaN   \n",
       "\n",
       "       Foreign direct investment, net inflows (BoP, current US$)  \\\n",
       "count                                                  30          \n",
       "unique                                                 30          \n",
       "top                                            8195499253          \n",
       "freq                                                    1          \n",
       "mean                                                  NaN          \n",
       "std                                                   NaN          \n",
       "min                                                   NaN          \n",
       "25%                                                   NaN          \n",
       "50%                                                   NaN          \n",
       "75%                                                   NaN          \n",
       "max                                                   NaN          \n",
       "\n",
       "        Population, total  CO2 emissions (metric tons per capita)  \n",
       "count        3.000000e+01                               30.000000  \n",
       "unique                NaN                                     NaN  \n",
       "top                   NaN                                     NaN  \n",
       "freq                  NaN                                     NaN  \n",
       "mean         1.412014e+08                                0.574819  \n",
       "std          3.205242e+07                                0.160605  \n",
       "min          9.521245e+07                                0.312014  \n",
       "25%          1.141732e+08                                0.434495  \n",
       "50%          1.370927e+08                                0.639385  \n",
       "75%          1.661228e+08                                0.718044  \n",
       "max          2.009636e+08                                0.808855  "
      ]
     },
     "execution_count": 31,
     "metadata": {},
     "output_type": "execute_result"
    }
   ],
   "source": [
    "test.describe(include='all')"
   ]
  },
  {
   "cell_type": "code",
   "execution_count": 32,
   "metadata": {},
   "outputs": [],
   "source": [
    "columns = test.columns"
   ]
  },
  {
   "cell_type": "code",
   "execution_count": 33,
   "metadata": {},
   "outputs": [],
   "source": [
    "test = test.replace('..', 13.45)"
   ]
  },
  {
   "cell_type": "code",
   "execution_count": 34,
   "metadata": {},
   "outputs": [],
   "source": [
    "test[columns[-3]] = test[columns[-3]].astype('float')\n",
    "test[columns[-4]] = test[columns[-4]].astype('float')\n",
    "test[columns[-5]] = test[columns[-5]].astype('float')\n",
    "test[columns[-6]] = test[columns[-6]].astype('float')"
   ]
  },
  {
   "cell_type": "code",
   "execution_count": 35,
   "metadata": {},
   "outputs": [
    {
     "name": "stdout",
     "output_type": "stream",
     "text": [
      "int64\n",
      "int64\n",
      "float64\n",
      "float64\n",
      "float64\n",
      "float64\n",
      "float64\n",
      "float64\n",
      "float64\n",
      "int64\n",
      "float64\n"
     ]
    }
   ],
   "source": [
    "for i in test.columns:\n",
    "    print(test[i].dtype)"
   ]
  },
  {
   "cell_type": "code",
   "execution_count": 36,
   "metadata": {},
   "outputs": [
    {
     "data": {
      "text/plain": [
       "<matplotlib.axes._subplots.AxesSubplot at 0x55267c3748>"
      ]
     },
     "execution_count": 36,
     "metadata": {},
     "output_type": "execute_result"
    },
    {
     "data": {
      "image/png": "[encoded data removed]",
      "text/plain": [
       "<Figure size 432x288 with 1 Axes>"
      ]
     },
     "metadata": {
      "needs_background": "light"
     },
     "output_type": "display_data"
    }
   ],
   "source": [
    "train[columns[-1]].hist()"
   ]
  },
  {
   "cell_type": "code",
   "execution_count": 37,
   "metadata": {},
   "outputs": [
    {
     "data": {
      "text/plain": [
       "-0.3662320294538902"
      ]
     },
     "execution_count": 37,
     "metadata": {},
     "output_type": "execute_result"
    }
   ],
   "source": [
    "train[columns[-1]].skew()"
   ]
  },
  {
   "cell_type": "code",
   "execution_count": 38,
   "metadata": {},
   "outputs": [
    {
     "data": {
      "text/plain": [
       "<matplotlib.axes._subplots.AxesSubplot at 0x5526edc748>"
      ]
     },
     "execution_count": 38,
     "metadata": {},
     "output_type": "execute_result"
    },
    {
     "data": {
      "image/png": "[encoded data removed]",
      "text/plain": [
       "<Figure size 432x288 with 1 Axes>"
      ]
     },
     "metadata": {
      "needs_background": "light"
     },
     "output_type": "display_data"
    }
   ],
   "source": [
    "p=pd.pivot_table(data=train,index=column[1],values=columns[-1],aggfunc=np.median)\n",
    "p.plot(kind='bar')"
   ]
  },
  {
   "cell_type": "code",
   "execution_count": 39,
   "metadata": {},
   "outputs": [
    {
     "data": {
      "text/plain": [
       "<matplotlib.axes._subplots.AxesSubplot at 0x55270c5ec8>"
      ]
     },
     "execution_count": 39,
     "metadata": {},
     "output_type": "execute_result"
    },
    {
     "data": {
      "image/png": "[encoded data removed]",
      "text/plain": [
       "<Figure size 432x288 with 1 Axes>"
      ]
     },
     "metadata": {
      "needs_background": "light"
     },
     "output_type": "display_data"
    }
   ],
   "source": [
    "p=pd.pivot_table(data=train,index=column[2],values=columns[-1],aggfunc=np.median)\n",
    "p.plot(kind='bar')"
   ]
  },
  {
   "cell_type": "code",
   "execution_count": 40,
   "metadata": {},
   "outputs": [
    {
     "data": {
      "text/plain": [
       "<matplotlib.axes._subplots.AxesSubplot at 0x55267b6408>"
      ]
     },
     "execution_count": 40,
     "metadata": {},
     "output_type": "execute_result"
    },
    {
     "data": {
      "image/png": "[encoded data removed]",
      "text/plain": [
       "<Figure size 432x288 with 1 Axes>"
      ]
     },
     "metadata": {
      "needs_background": "light"
     },
     "output_type": "display_data"
    }
   ],
   "source": [
    "p=pd.pivot_table(data=train,index=column[3],values=columns[-1],aggfunc=np.median)\n",
    "p.plot(kind='bar')"
   ]
  },
  {
   "cell_type": "code",
   "execution_count": 41,
   "metadata": {},
   "outputs": [
    {
     "data": {
      "text/plain": [
       "<matplotlib.axes._subplots.AxesSubplot at 0x55272465c8>"
      ]
     },
     "execution_count": 41,
     "metadata": {},
     "output_type": "execute_result"
    },
    {
     "data": {
      "image/png": "[encoded data removed]",
      "text/plain": [
       "<Figure size 432x288 with 1 Axes>"
      ]
     },
     "metadata": {
      "needs_background": "light"
     },
     "output_type": "display_data"
    }
   ],
   "source": [
    "sns.scatterplot(data=train, y=columns[-1], x=columns[4])"
   ]
  },
  {
   "cell_type": "code",
   "execution_count": 42,
   "metadata": {},
   "outputs": [
    {
     "data": {
      "text/plain": [
       "<matplotlib.axes._subplots.AxesSubplot at 0x55272a2048>"
      ]
     },
     "execution_count": 42,
     "metadata": {},
     "output_type": "execute_result"
    },
    {
     "data": {
      "image/png": "[encoded data removed]",
      "text/plain": [
       "<Figure size 432x288 with 1 Axes>"
      ]
     },
     "metadata": {
      "needs_background": "light"
     },
     "output_type": "display_data"
    }
   ],
   "source": [
    "sns.scatterplot(data=train, x=columns[5], y=columns[-1])"
   ]
  },
  {
   "cell_type": "code",
   "execution_count": 43,
   "metadata": {},
   "outputs": [
    {
     "data": {
      "text/plain": [
       "<matplotlib.axes._subplots.AxesSubplot at 0x55239786c8>"
      ]
     },
     "execution_count": 43,
     "metadata": {},
     "output_type": "execute_result"
    },
    {
     "data": {
      "image/png": "[encoded data removed]",
      "text/plain": [
       "<Figure size 1440x1080 with 2 Axes>"
      ]
     },
     "metadata": {
      "needs_background": "light"
     },
     "output_type": "display_data"
    }
   ],
   "source": [
    "plt.figure(figsize=(20, 15))\n",
    "sns.heatmap(train.corr(), annot=True)"
   ]
  },
  {
   "cell_type": "code",
   "execution_count": 44,
   "metadata": {},
   "outputs": [],
   "source": [
    "Y = train['Life expectancy at birth, total (years)']\n",
    "X = train.drop('Life expectancy at birth, total (years)',axis=1)"
   ]
  },
  {
   "cell_type": "code",
   "execution_count": 45,
   "metadata": {},
   "outputs": [
    {
     "data": {
      "text/plain": [
       "0.9802398359242513"
      ]
     },
     "execution_count": 45,
     "metadata": {},
     "output_type": "execute_result"
    }
   ],
   "source": [
    "train_X, test_X, train_Y, test_Y = train_test_split(X, Y, test_size=0.3, random_state=2)\n",
    "abr = AdaBoostRegressor(n_estimators=50, learning_rate=0.1, random_state=2)\n",
    "val = abr.fit(train_X,train_Y)\n",
    "accuracy = abr.score(test_X, test_Y)\n",
    "accuracy"
   ]
  },
  {
   "cell_type": "code",
   "execution_count": 46,
   "metadata": {},
   "outputs": [],
   "source": [
    "prediction = abr.predict(test)"
   ]
  },
  {
   "cell_type": "code",
   "execution_count": 47,
   "metadata": {},
   "outputs": [
    {
     "data": {
      "text/plain": [
       "array([45.333     , 45.333     , 45.333     , 44.2812    , 44.2812    ,\n",
       "       44.2812    , 44.3255    , 44.104     , 44.104     , 45.333     ,\n",
       "       45.333     , 44.25166667, 44.3255    , 44.25166667, 45.891     ,\n",
       "       45.97066667, 45.91575   , 45.853     , 45.891     , 45.891     ,\n",
       "       45.9645    , 45.891     , 45.99175   , 45.99175   , 46.0016    ,\n",
       "       46.0016    , 46.0016    , 45.99      , 45.9645    , 45.9682    ])"
      ]
     },
     "execution_count": 47,
     "metadata": {},
     "output_type": "execute_result"
    }
   ],
   "source": [
    "prediction"
   ]
  },
  {
   "cell_type": "code",
   "execution_count": 48,
   "metadata": {},
   "outputs": [],
   "source": [
    "submission = pd.DataFrame(test['Year'])\n",
    "submission['Life_Expectancy'] = prediction"
   ]
  },
  {
   "cell_type": "code",
   "execution_count": 49,
   "metadata": {},
   "outputs": [],
   "source": [
    "submission.to_csv('subExpectancy.csv',index=False)"
   ]
  },
  {
   "cell_type": "code",
   "execution_count": 50,
   "metadata": {},
   "outputs": [
    {
     "data": {
      "text/plain": [
       "0     1990\n",
       "1     1991\n",
       "2     1992\n",
       "3     1993\n",
       "4     1994\n",
       "5     1995\n",
       "6     1996\n",
       "7     1997\n",
       "8     1998\n",
       "9     1999\n",
       "10    2000\n",
       "11    2001\n",
       "12    2002\n",
       "13    2003\n",
       "14    2004\n",
       "15    2005\n",
       "16    2006\n",
       "17    2007\n",
       "18    2008\n",
       "19    2009\n",
       "20    2010\n",
       "21    2011\n",
       "22    2012\n",
       "23    2013\n",
       "24    2014\n",
       "25    2015\n",
       "26    2016\n",
       "27    2017\n",
       "28    2018\n",
       "29    2019\n",
       "Name: Year, dtype: int64"
      ]
     },
     "execution_count": 50,
     "metadata": {},
     "output_type": "execute_result"
    }
   ],
   "source": [
    "test['Year']"
   ]
  },
  {
   "cell_type": "code",
   "execution_count": 51,
   "metadata": {},
   "outputs": [
    {
     "data": {
      "text/html": [
       "<div>\n",
       "<style scoped>\n",
       "    .dataframe tbody tr th:only-of-type {\n",
       "        vertical-align: middle;\n",
       "    }\n",
       "\n",
       "    .dataframe tbody tr th {\n",
       "        vertical-align: top;\n",
       "    }\n",
       "\n",
       "    .dataframe thead th {\n",
       "        text-align: right;\n",
       "    }\n",
       "</style>\n",
       "<table border=\"1\" class=\"dataframe\">\n",
       "  <thead>\n",
       "    <tr style=\"text-align: right;\">\n",
       "      <th></th>\n",
       "      <th>Year</th>\n",
       "      <th>Life_Expectancy</th>\n",
       "    </tr>\n",
       "  </thead>\n",
       "  <tbody>\n",
       "    <tr>\n",
       "      <th>0</th>\n",
       "      <td>1990</td>\n",
       "      <td>45.333000</td>\n",
       "    </tr>\n",
       "    <tr>\n",
       "      <th>1</th>\n",
       "      <td>1991</td>\n",
       "      <td>45.333000</td>\n",
       "    </tr>\n",
       "    <tr>\n",
       "      <th>2</th>\n",
       "      <td>1992</td>\n",
       "      <td>45.333000</td>\n",
       "    </tr>\n",
       "    <tr>\n",
       "      <th>3</th>\n",
       "      <td>1993</td>\n",
       "      <td>44.281200</td>\n",
       "    </tr>\n",
       "    <tr>\n",
       "      <th>4</th>\n",
       "      <td>1994</td>\n",
       "      <td>44.281200</td>\n",
       "    </tr>\n",
       "    <tr>\n",
       "      <th>5</th>\n",
       "      <td>1995</td>\n",
       "      <td>44.281200</td>\n",
       "    </tr>\n",
       "    <tr>\n",
       "      <th>6</th>\n",
       "      <td>1996</td>\n",
       "      <td>44.325500</td>\n",
       "    </tr>\n",
       "    <tr>\n",
       "      <th>7</th>\n",
       "      <td>1997</td>\n",
       "      <td>44.104000</td>\n",
       "    </tr>\n",
       "    <tr>\n",
       "      <th>8</th>\n",
       "      <td>1998</td>\n",
       "      <td>44.104000</td>\n",
       "    </tr>\n",
       "    <tr>\n",
       "      <th>9</th>\n",
       "      <td>1999</td>\n",
       "      <td>45.333000</td>\n",
       "    </tr>\n",
       "    <tr>\n",
       "      <th>10</th>\n",
       "      <td>2000</td>\n",
       "      <td>45.333000</td>\n",
       "    </tr>\n",
       "    <tr>\n",
       "      <th>11</th>\n",
       "      <td>2001</td>\n",
       "      <td>44.251667</td>\n",
       "    </tr>\n",
       "    <tr>\n",
       "      <th>12</th>\n",
       "      <td>2002</td>\n",
       "      <td>44.325500</td>\n",
       "    </tr>\n",
       "    <tr>\n",
       "      <th>13</th>\n",
       "      <td>2003</td>\n",
       "      <td>44.251667</td>\n",
       "    </tr>\n",
       "    <tr>\n",
       "      <th>14</th>\n",
       "      <td>2004</td>\n",
       "      <td>45.891000</td>\n",
       "    </tr>\n",
       "    <tr>\n",
       "      <th>15</th>\n",
       "      <td>2005</td>\n",
       "      <td>45.970667</td>\n",
       "    </tr>\n",
       "    <tr>\n",
       "      <th>16</th>\n",
       "      <td>2006</td>\n",
       "      <td>45.915750</td>\n",
       "    </tr>\n",
       "    <tr>\n",
       "      <th>17</th>\n",
       "      <td>2007</td>\n",
       "      <td>45.853000</td>\n",
       "    </tr>\n",
       "    <tr>\n",
       "      <th>18</th>\n",
       "      <td>2008</td>\n",
       "      <td>45.891000</td>\n",
       "    </tr>\n",
       "    <tr>\n",
       "      <th>19</th>\n",
       "      <td>2009</td>\n",
       "      <td>45.891000</td>\n",
       "    </tr>\n",
       "    <tr>\n",
       "      <th>20</th>\n",
       "      <td>2010</td>\n",
       "      <td>45.964500</td>\n",
       "    </tr>\n",
       "    <tr>\n",
       "      <th>21</th>\n",
       "      <td>2011</td>\n",
       "      <td>45.891000</td>\n",
       "    </tr>\n",
       "    <tr>\n",
       "      <th>22</th>\n",
       "      <td>2012</td>\n",
       "      <td>45.991750</td>\n",
       "    </tr>\n",
       "    <tr>\n",
       "      <th>23</th>\n",
       "      <td>2013</td>\n",
       "      <td>45.991750</td>\n",
       "    </tr>\n",
       "    <tr>\n",
       "      <th>24</th>\n",
       "      <td>2014</td>\n",
       "      <td>46.001600</td>\n",
       "    </tr>\n",
       "    <tr>\n",
       "      <th>25</th>\n",
       "      <td>2015</td>\n",
       "      <td>46.001600</td>\n",
       "    </tr>\n",
       "    <tr>\n",
       "      <th>26</th>\n",
       "      <td>2016</td>\n",
       "      <td>46.001600</td>\n",
       "    </tr>\n",
       "    <tr>\n",
       "      <th>27</th>\n",
       "      <td>2017</td>\n",
       "      <td>45.990000</td>\n",
       "    </tr>\n",
       "    <tr>\n",
       "      <th>28</th>\n",
       "      <td>2018</td>\n",
       "      <td>45.964500</td>\n",
       "    </tr>\n",
       "    <tr>\n",
       "      <th>29</th>\n",
       "      <td>2019</td>\n",
       "      <td>45.968200</td>\n",
       "    </tr>\n",
       "  </tbody>\n",
       "</table>\n",
       "</div>"
      ],
      "text/plain": [
       "    Year  Life_Expectancy\n",
       "0   1990        45.333000\n",
       "1   1991        45.333000\n",
       "2   1992        45.333000\n",
       "3   1993        44.281200\n",
       "4   1994        44.281200\n",
       "5   1995        44.281200\n",
       "6   1996        44.325500\n",
       "7   1997        44.104000\n",
       "8   1998        44.104000\n",
       "9   1999        45.333000\n",
       "10  2000        45.333000\n",
       "11  2001        44.251667\n",
       "12  2002        44.325500\n",
       "13  2003        44.251667\n",
       "14  2004        45.891000\n",
       "15  2005        45.970667\n",
       "16  2006        45.915750\n",
       "17  2007        45.853000\n",
       "18  2008        45.891000\n",
       "19  2009        45.891000\n",
       "20  2010        45.964500\n",
       "21  2011        45.891000\n",
       "22  2012        45.991750\n",
       "23  2013        45.991750\n",
       "24  2014        46.001600\n",
       "25  2015        46.001600\n",
       "26  2016        46.001600\n",
       "27  2017        45.990000\n",
       "28  2018        45.964500\n",
       "29  2019        45.968200"
      ]
     },
     "execution_count": 51,
     "metadata": {},
     "output_type": "execute_result"
    }
   ],
   "source": [
    "submission"
   ]
  },
  {
   "cell_type": "code",
   "execution_count": 52,
   "metadata": {},
   "outputs": [],
   "source": [
    "sub= pd.read_csv('sample_submission.csv')"
   ]
  },
  {
   "cell_type": "code",
   "execution_count": 53,
   "metadata": {},
   "outputs": [
    {
     "data": {
      "text/html": [
       "<div>\n",
       "<style scoped>\n",
       "    .dataframe tbody tr th:only-of-type {\n",
       "        vertical-align: middle;\n",
       "    }\n",
       "\n",
       "    .dataframe tbody tr th {\n",
       "        vertical-align: top;\n",
       "    }\n",
       "\n",
       "    .dataframe thead th {\n",
       "        text-align: right;\n",
       "    }\n",
       "</style>\n",
       "<table border=\"1\" class=\"dataframe\">\n",
       "  <thead>\n",
       "    <tr style=\"text-align: right;\">\n",
       "      <th></th>\n",
       "      <th>Year</th>\n",
       "      <th>Life_Expectancy</th>\n",
       "    </tr>\n",
       "  </thead>\n",
       "  <tbody>\n",
       "    <tr>\n",
       "      <th>0</th>\n",
       "      <td>1990</td>\n",
       "      <td>20.03</td>\n",
       "    </tr>\n",
       "    <tr>\n",
       "      <th>1</th>\n",
       "      <td>1991</td>\n",
       "      <td>20.03</td>\n",
       "    </tr>\n",
       "    <tr>\n",
       "      <th>2</th>\n",
       "      <td>1992</td>\n",
       "      <td>20.03</td>\n",
       "    </tr>\n",
       "    <tr>\n",
       "      <th>3</th>\n",
       "      <td>1993</td>\n",
       "      <td>20.03</td>\n",
       "    </tr>\n",
       "    <tr>\n",
       "      <th>4</th>\n",
       "      <td>1994</td>\n",
       "      <td>20.03</td>\n",
       "    </tr>\n",
       "    <tr>\n",
       "      <th>5</th>\n",
       "      <td>1995</td>\n",
       "      <td>20.03</td>\n",
       "    </tr>\n",
       "    <tr>\n",
       "      <th>6</th>\n",
       "      <td>1996</td>\n",
       "      <td>20.03</td>\n",
       "    </tr>\n",
       "    <tr>\n",
       "      <th>7</th>\n",
       "      <td>1997</td>\n",
       "      <td>20.03</td>\n",
       "    </tr>\n",
       "    <tr>\n",
       "      <th>8</th>\n",
       "      <td>1998</td>\n",
       "      <td>20.03</td>\n",
       "    </tr>\n",
       "    <tr>\n",
       "      <th>9</th>\n",
       "      <td>1999</td>\n",
       "      <td>20.03</td>\n",
       "    </tr>\n",
       "    <tr>\n",
       "      <th>10</th>\n",
       "      <td>2000</td>\n",
       "      <td>20.03</td>\n",
       "    </tr>\n",
       "    <tr>\n",
       "      <th>11</th>\n",
       "      <td>2001</td>\n",
       "      <td>20.03</td>\n",
       "    </tr>\n",
       "    <tr>\n",
       "      <th>12</th>\n",
       "      <td>2002</td>\n",
       "      <td>20.03</td>\n",
       "    </tr>\n",
       "    <tr>\n",
       "      <th>13</th>\n",
       "      <td>2003</td>\n",
       "      <td>20.03</td>\n",
       "    </tr>\n",
       "    <tr>\n",
       "      <th>14</th>\n",
       "      <td>2004</td>\n",
       "      <td>20.03</td>\n",
       "    </tr>\n",
       "    <tr>\n",
       "      <th>15</th>\n",
       "      <td>2005</td>\n",
       "      <td>20.03</td>\n",
       "    </tr>\n",
       "    <tr>\n",
       "      <th>16</th>\n",
       "      <td>2006</td>\n",
       "      <td>20.03</td>\n",
       "    </tr>\n",
       "    <tr>\n",
       "      <th>17</th>\n",
       "      <td>2007</td>\n",
       "      <td>20.03</td>\n",
       "    </tr>\n",
       "    <tr>\n",
       "      <th>18</th>\n",
       "      <td>2008</td>\n",
       "      <td>20.03</td>\n",
       "    </tr>\n",
       "    <tr>\n",
       "      <th>19</th>\n",
       "      <td>2009</td>\n",
       "      <td>20.03</td>\n",
       "    </tr>\n",
       "    <tr>\n",
       "      <th>20</th>\n",
       "      <td>2010</td>\n",
       "      <td>20.03</td>\n",
       "    </tr>\n",
       "    <tr>\n",
       "      <th>21</th>\n",
       "      <td>2011</td>\n",
       "      <td>20.03</td>\n",
       "    </tr>\n",
       "    <tr>\n",
       "      <th>22</th>\n",
       "      <td>2012</td>\n",
       "      <td>20.03</td>\n",
       "    </tr>\n",
       "    <tr>\n",
       "      <th>23</th>\n",
       "      <td>2013</td>\n",
       "      <td>20.03</td>\n",
       "    </tr>\n",
       "    <tr>\n",
       "      <th>24</th>\n",
       "      <td>2014</td>\n",
       "      <td>20.03</td>\n",
       "    </tr>\n",
       "    <tr>\n",
       "      <th>25</th>\n",
       "      <td>2015</td>\n",
       "      <td>20.03</td>\n",
       "    </tr>\n",
       "    <tr>\n",
       "      <th>26</th>\n",
       "      <td>2016</td>\n",
       "      <td>20.03</td>\n",
       "    </tr>\n",
       "    <tr>\n",
       "      <th>27</th>\n",
       "      <td>2017</td>\n",
       "      <td>20.03</td>\n",
       "    </tr>\n",
       "    <tr>\n",
       "      <th>28</th>\n",
       "      <td>2018</td>\n",
       "      <td>20.03</td>\n",
       "    </tr>\n",
       "    <tr>\n",
       "      <th>29</th>\n",
       "      <td>2019</td>\n",
       "      <td>20.03</td>\n",
       "    </tr>\n",
       "  </tbody>\n",
       "</table>\n",
       "</div>"
      ],
      "text/plain": [
       "    Year  Life_Expectancy\n",
       "0   1990            20.03\n",
       "1   1991            20.03\n",
       "2   1992            20.03\n",
       "3   1993            20.03\n",
       "4   1994            20.03\n",
       "5   1995            20.03\n",
       "6   1996            20.03\n",
       "7   1997            20.03\n",
       "8   1998            20.03\n",
       "9   1999            20.03\n",
       "10  2000            20.03\n",
       "11  2001            20.03\n",
       "12  2002            20.03\n",
       "13  2003            20.03\n",
       "14  2004            20.03\n",
       "15  2005            20.03\n",
       "16  2006            20.03\n",
       "17  2007            20.03\n",
       "18  2008            20.03\n",
       "19  2009            20.03\n",
       "20  2010            20.03\n",
       "21  2011            20.03\n",
       "22  2012            20.03\n",
       "23  2013            20.03\n",
       "24  2014            20.03\n",
       "25  2015            20.03\n",
       "26  2016            20.03\n",
       "27  2017            20.03\n",
       "28  2018            20.03\n",
       "29  2019            20.03"
      ]
     },
     "execution_count": 53,
     "metadata": {},
     "output_type": "execute_result"
    }
   ],
   "source": [
    "sub"
   ]
  },
  {
   "cell_type": "code",
   "execution_count": null,
   "metadata": {},
   "outputs": [],
   "source": []
  },
  {
   "cell_type": "code",
   "execution_count": null,
   "metadata": {},
   "outputs": [],
   "source": []
  }
 ],
 "metadata": {
  "kernelspec": {
   "display_name": "Python 3",
   "language": "python",
   "name": "python3"
  },
  "language_info": {
   "codemirror_mode": {
    "name": "ipython",
    "version": 3
   },
   "file_extension": ".py",
   "mimetype": "text/x-python",
   "name": "python",
   "nbconvert_exporter": "python",
   "pygments_lexer": "ipython3",
   "version": "3.7.9"
  }
 },
 "nbformat": 4,
 "nbformat_minor": 4
}
